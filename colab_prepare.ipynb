{
  "nbformat": 4,
  "nbformat_minor": 0,
  "metadata": {
    "colab": {
      "name": "python_asr_prepare.ipynb",
      "provenance": [],
      "collapsed_sections": []
    },
    "kernelspec": {
      "name": "python3",
      "display_name": "Python 3"
    },
    "language_info": {
      "name": "python"
    }
  },
  "cells": [
    {
      "cell_type": "markdown",
      "source": [
        "# 『Pythonで学ぶ音声認識』（高島 遼一 2021）を Google Coalb で試す\n",
        "\n",
        "まずデータの準備をおこなう。\n",
        "\n",
        "Colab のデータはしばらく時間がたつと消えてしまうので，Google Drive に置いておく。\n",
        "\n",
        "- Google Drive は無料だと 15 GB しか利用できない。\n",
        "- もし容量が足りなければ，置いておくデータの選択が必要。`original` ディレクトリの中身は容量は大きいがダウンロードして展開するだけなので，Colab を起動するたびにダウンロードして展開する方針でもいいのかもしれない。"
      ],
      "metadata": {
        "id": "XzvU6nhTrpAC"
      }
    },
    {
      "cell_type": "markdown",
      "source": [
        "# 第3章 音声処理の基礎と特徴量抽出"
      ],
      "metadata": {
        "id": "A-5KhjJrFdrW"
      }
    },
    {
      "cell_type": "markdown",
      "source": [
        "## 第3.1節 データの準備"
      ],
      "metadata": {
        "id": "LfWTC2BeFroa"
      }
    },
    {
      "cell_type": "markdown",
      "source": [
        "### リポジトリを複製（git clone）する\n",
        "\n",
        "- 本家から fork したリポジトリを利用する"
      ],
      "metadata": {
        "id": "4KRVPOvA0Bni"
      }
    },
    {
      "cell_type": "code",
      "source": [
        "!git clone https://github.com/dfukagaw28/python_asr.git"
      ],
      "metadata": {
        "colab": {
          "base_uri": "https://localhost:8080/"
        },
        "id": "xT-ugYiS0AlU",
        "outputId": "20b29c90-9aea-4a5e-a617-178cdc1cfd67"
      },
      "execution_count": 1,
      "outputs": [
        {
          "output_type": "stream",
          "name": "stdout",
          "text": [
            "Cloning into 'python_asr'...\n",
            "remote: Enumerating objects: 132, done.\u001b[K\n",
            "remote: Counting objects: 100% (128/128), done.\u001b[K\n",
            "remote: Compressing objects: 100% (72/72), done.\u001b[K\n",
            "remote: Total 132 (delta 53), reused 117 (delta 46), pack-reused 4\u001b[K\n",
            "Receiving objects: 100% (132/132), 213.61 KiB | 7.12 MiB/s, done.\n",
            "Resolving deltas: 100% (53/53), done.\n"
          ]
        }
      ]
    },
    {
      "cell_type": "code",
      "source": [
        "%mkdir -p /content/python_asr/data/original\n",
        "%cd /content/python_asr/data/original"
      ],
      "metadata": {
        "colab": {
          "base_uri": "https://localhost:8080/"
        },
        "id": "6MoZh2kws49H",
        "outputId": "bd3a2dbe-e91b-457f-e5b5-1e6c0981e32b"
      },
      "execution_count": 2,
      "outputs": [
        {
          "output_type": "stream",
          "name": "stdout",
          "text": [
            "/content/python_asr/data/original\n"
          ]
        }
      ]
    },
    {
      "cell_type": "code",
      "source": [
        "import hashlib\n",
        "from pathlib import Path\n",
        "from urllib.parse import urlparse\n",
        "\n",
        "import requests\n",
        "from tqdm import tqdm\n",
        "\n",
        "def download(file_url, dst_path, hash_md5=None):\n",
        "    if not Path(dst_path).exists():\n",
        "        file_size = int(requests.head(file_url).headers[\"content-length\"])\n",
        "        res = requests.get(file_url, stream=True)\n",
        "        pbar = tqdm(total=file_size, unit=\"B\", unit_scale=True)\n",
        "        with open(dst_path, 'wb') as file:\n",
        "            for chunk in res.iter_content(chunk_size=1024):\n",
        "                file.write(chunk)\n",
        "                pbar.update(len(chunk))\n",
        "            pbar.close()\n",
        "    if hash_md5:\n",
        "        with open(dst_path, 'rb') as f:\n",
        "            file_md5 = hashlib.md5(f.read()).hexdigest()\n",
        "            assert file_md5 == hash_md5\n"
      ],
      "metadata": {
        "id": "5tqRK63ctKAf"
      },
      "execution_count": 3,
      "outputs": []
    },
    {
      "cell_type": "code",
      "source": [
        "# 音声ファイル(jsutコーパス. zip形式)をダウンロード\n",
        "download(\n",
        "    'https://drive.google.com/u/0/uc?id=1f7bIQfwWdFOxeaYzs5Cw-HTcA8uwQ8qp&export=download&confirm=t',\n",
        "    'jsut_ver1.1.zip',\n",
        "    'f3e9dcd3e230880db494f9853b0517fb',\n",
        ")"
      ],
      "metadata": {
        "colab": {
          "base_uri": "https://localhost:8080/"
        },
        "id": "bQscU8wrtom8",
        "outputId": "59d3e44b-96e1-401d-ec4b-e71712cf70e4"
      },
      "execution_count": 4,
      "outputs": [
        {
          "output_type": "stream",
          "name": "stderr",
          "text": [
            "2.69GB [01:04, 42.0MB/s]\n"
          ]
        }
      ]
    },
    {
      "cell_type": "code",
      "source": [
        "# jsutコーパスのラベルデータをダウンロード\n",
        "download(\n",
        "    'https://github.com/sarulab-speech/jsut-label/archive/1978271.zip',\n",
        "    '1978271.zip',\n",
        "    '4958cd831b28769ad72ab40666f595e3',\n",
        ")"
      ],
      "metadata": {
        "colab": {
          "base_uri": "https://localhost:8080/"
        },
        "id": "ne3VxIzatrgf",
        "outputId": "a16b1d27-0622-44d6-ccae-3fc8bb3b18fc"
      },
      "execution_count": 5,
      "outputs": [
        {
          "output_type": "stream",
          "name": "stderr",
          "text": [
            "9.40MB [00:01, 6.47MB/s]\n"
          ]
        }
      ]
    },
    {
      "cell_type": "code",
      "source": [
        "# zip ファイルを展開する\n",
        "import shutil\n",
        "import zipfile\n",
        "from tqdm import tqdm\n",
        "\n",
        "for filename in ['jsut_ver1.1.zip', '1978271.zip']:\n",
        "    with zipfile.ZipFile(filename) as zf:\n",
        "        for member in tqdm(zf.infolist(), desc='Extracting '):\n",
        "            if not Path(member.filename).exists():\n",
        "                zf.extract(member)\n",
        "\n",
        "Path('jsut-label-1978271ca6212e1ea742da8f149160f5679e8971').rename('jsut-label-master')  "
      ],
      "metadata": {
        "colab": {
          "base_uri": "https://localhost:8080/"
        },
        "id": "ZaSg0vrSt3UH",
        "outputId": "cc0b7069-a182-4a57-edd6-b023de9ad424"
      },
      "execution_count": 6,
      "outputs": [
        {
          "output_type": "stream",
          "name": "stderr",
          "text": [
            "Extracting : 100%|██████████| 7737/7737 [00:35<00:00, 218.67it/s]\n",
            "Extracting : 100%|██████████| 5015/5015 [00:01<00:00, 4712.36it/s]\n"
          ]
        }
      ]
    },
    {
      "cell_type": "markdown",
      "source": [
        "### ダウンサンプリング処理（00prepare/01prepare_wav.py）\n",
        "\n",
        "JSUT コーパスの音声データを 48kHz から 16kHz に変換する。\n",
        "\n",
        "pysox パッケージを用いる。\n",
        "- https://github.com/rabitt/pysox\n",
        "- http://sox.sourceforge.net/"
      ],
      "metadata": {
        "id": "WwKBG9kI3rOt"
      }
    },
    {
      "cell_type": "code",
      "source": [
        "%cd /content/python_asr/00prepare"
      ],
      "metadata": {
        "colab": {
          "base_uri": "https://localhost:8080/"
        },
        "id": "Yn5Q963j3oP8",
        "outputId": "6e1ebd04-f1fb-45be-9bef-7bedf4b03a5a"
      },
      "execution_count": 7,
      "outputs": [
        {
          "output_type": "stream",
          "name": "stdout",
          "text": [
            "/content/python_asr/00prepare\n"
          ]
        }
      ]
    },
    {
      "cell_type": "code",
      "source": [
        "!apt-get install -qy libsox-fmt-all sox"
      ],
      "metadata": {
        "colab": {
          "base_uri": "https://localhost:8080/"
        },
        "id": "yfUrBI1449Am",
        "outputId": "9237a25e-fb89-400d-e6b2-0b31c4988671"
      },
      "execution_count": 8,
      "outputs": [
        {
          "output_type": "stream",
          "name": "stdout",
          "text": [
            "Reading package lists...\n",
            "Building dependency tree...\n",
            "Reading state information...\n",
            "The following package was automatically installed and is no longer required:\n",
            "  libnvidia-common-460\n",
            "Use 'apt autoremove' to remove it.\n",
            "The following additional packages will be installed:\n",
            "  libao-common libao4 libid3tag0 libmad0 libmagic-mgc libmagic1\n",
            "  libopencore-amrnb0 libopencore-amrwb0 libsox-fmt-alsa libsox-fmt-ao\n",
            "  libsox-fmt-base libsox-fmt-mp3 libsox-fmt-oss libsox-fmt-pulse libsox3\n",
            "Suggested packages:\n",
            "  libaudio2 file\n",
            "The following NEW packages will be installed:\n",
            "  libao-common libao4 libid3tag0 libmad0 libmagic-mgc libmagic1\n",
            "  libopencore-amrnb0 libopencore-amrwb0 libsox-fmt-all libsox-fmt-alsa\n",
            "  libsox-fmt-ao libsox-fmt-base libsox-fmt-mp3 libsox-fmt-oss libsox-fmt-pulse\n",
            "  libsox3 sox\n",
            "0 upgraded, 17 newly installed, 0 to remove and 45 not upgraded.\n",
            "Need to get 942 kB of archives.\n",
            "After this operation, 7,441 kB of additional disk space will be used.\n",
            "Get:1 http://archive.ubuntu.com/ubuntu bionic/universe amd64 libopencore-amrnb0 amd64 0.1.3-2.1 [92.0 kB]\n",
            "Get:2 http://archive.ubuntu.com/ubuntu bionic/universe amd64 libopencore-amrwb0 amd64 0.1.3-2.1 [45.8 kB]\n",
            "Get:3 http://archive.ubuntu.com/ubuntu bionic-updates/main amd64 libmagic-mgc amd64 1:5.32-2ubuntu0.4 [184 kB]\n",
            "Get:4 http://archive.ubuntu.com/ubuntu bionic-updates/main amd64 libmagic1 amd64 1:5.32-2ubuntu0.4 [68.6 kB]\n",
            "Get:5 http://archive.ubuntu.com/ubuntu bionic/main amd64 libao-common all 1.2.2+20180113-1ubuntu1 [6,644 B]\n",
            "Get:6 http://archive.ubuntu.com/ubuntu bionic/main amd64 libao4 amd64 1.2.2+20180113-1ubuntu1 [35.1 kB]\n",
            "Get:7 http://archive.ubuntu.com/ubuntu bionic/universe amd64 libid3tag0 amd64 0.15.1b-13 [31.2 kB]\n",
            "Get:8 http://archive.ubuntu.com/ubuntu bionic-updates/universe amd64 libmad0 amd64 0.15.1b-9ubuntu18.04.1 [64.6 kB]\n",
            "Get:9 http://archive.ubuntu.com/ubuntu bionic-updates/universe amd64 libsox3 amd64 14.4.2-3ubuntu0.18.04.1 [226 kB]\n",
            "Get:10 http://archive.ubuntu.com/ubuntu bionic-updates/universe amd64 libsox-fmt-alsa amd64 14.4.2-3ubuntu0.18.04.1 [10.6 kB]\n",
            "Get:11 http://archive.ubuntu.com/ubuntu bionic-updates/universe amd64 libsox-fmt-ao amd64 14.4.2-3ubuntu0.18.04.1 [7,464 B]\n",
            "Get:12 http://archive.ubuntu.com/ubuntu bionic-updates/universe amd64 libsox-fmt-base amd64 14.4.2-3ubuntu0.18.04.1 [32.1 kB]\n",
            "Get:13 http://archive.ubuntu.com/ubuntu bionic-updates/universe amd64 libsox-fmt-mp3 amd64 14.4.2-3ubuntu0.18.04.1 [15.9 kB]\n",
            "Get:14 http://archive.ubuntu.com/ubuntu bionic-updates/universe amd64 libsox-fmt-oss amd64 14.4.2-3ubuntu0.18.04.1 [9,012 B]\n",
            "Get:15 http://archive.ubuntu.com/ubuntu bionic-updates/universe amd64 libsox-fmt-pulse amd64 14.4.2-3ubuntu0.18.04.1 [7,348 B]\n",
            "Get:16 http://archive.ubuntu.com/ubuntu bionic-updates/universe amd64 libsox-fmt-all amd64 14.4.2-3ubuntu0.18.04.1 [5,128 B]\n",
            "Get:17 http://archive.ubuntu.com/ubuntu bionic-updates/universe amd64 sox amd64 14.4.2-3ubuntu0.18.04.1 [101 kB]\n",
            "Fetched 942 kB in 1s (1,148 kB/s)\n",
            "Selecting previously unselected package libopencore-amrnb0:amd64.\n",
            "(Reading database ... 155632 files and directories currently installed.)\n",
            "Preparing to unpack .../00-libopencore-amrnb0_0.1.3-2.1_amd64.deb ...\n",
            "Unpacking libopencore-amrnb0:amd64 (0.1.3-2.1) ...\n",
            "Selecting previously unselected package libopencore-amrwb0:amd64.\n",
            "Preparing to unpack .../01-libopencore-amrwb0_0.1.3-2.1_amd64.deb ...\n",
            "Unpacking libopencore-amrwb0:amd64 (0.1.3-2.1) ...\n",
            "Selecting previously unselected package libmagic-mgc.\n",
            "Preparing to unpack .../02-libmagic-mgc_1%3a5.32-2ubuntu0.4_amd64.deb ...\n",
            "Unpacking libmagic-mgc (1:5.32-2ubuntu0.4) ...\n",
            "Selecting previously unselected package libmagic1:amd64.\n",
            "Preparing to unpack .../03-libmagic1_1%3a5.32-2ubuntu0.4_amd64.deb ...\n",
            "Unpacking libmagic1:amd64 (1:5.32-2ubuntu0.4) ...\n",
            "Selecting previously unselected package libao-common.\n",
            "Preparing to unpack .../04-libao-common_1.2.2+20180113-1ubuntu1_all.deb ...\n",
            "Unpacking libao-common (1.2.2+20180113-1ubuntu1) ...\n",
            "Selecting previously unselected package libao4:amd64.\n",
            "Preparing to unpack .../05-libao4_1.2.2+20180113-1ubuntu1_amd64.deb ...\n",
            "Unpacking libao4:amd64 (1.2.2+20180113-1ubuntu1) ...\n",
            "Selecting previously unselected package libid3tag0:amd64.\n",
            "Preparing to unpack .../06-libid3tag0_0.15.1b-13_amd64.deb ...\n",
            "Unpacking libid3tag0:amd64 (0.15.1b-13) ...\n",
            "Selecting previously unselected package libmad0:amd64.\n",
            "Preparing to unpack .../07-libmad0_0.15.1b-9ubuntu18.04.1_amd64.deb ...\n",
            "Unpacking libmad0:amd64 (0.15.1b-9ubuntu18.04.1) ...\n",
            "Selecting previously unselected package libsox3:amd64.\n",
            "Preparing to unpack .../08-libsox3_14.4.2-3ubuntu0.18.04.1_amd64.deb ...\n",
            "Unpacking libsox3:amd64 (14.4.2-3ubuntu0.18.04.1) ...\n",
            "Selecting previously unselected package libsox-fmt-alsa:amd64.\n",
            "Preparing to unpack .../09-libsox-fmt-alsa_14.4.2-3ubuntu0.18.04.1_amd64.deb ...\n",
            "Unpacking libsox-fmt-alsa:amd64 (14.4.2-3ubuntu0.18.04.1) ...\n",
            "Selecting previously unselected package libsox-fmt-ao:amd64.\n",
            "Preparing to unpack .../10-libsox-fmt-ao_14.4.2-3ubuntu0.18.04.1_amd64.deb ...\n",
            "Unpacking libsox-fmt-ao:amd64 (14.4.2-3ubuntu0.18.04.1) ...\n",
            "Selecting previously unselected package libsox-fmt-base:amd64.\n",
            "Preparing to unpack .../11-libsox-fmt-base_14.4.2-3ubuntu0.18.04.1_amd64.deb ...\n",
            "Unpacking libsox-fmt-base:amd64 (14.4.2-3ubuntu0.18.04.1) ...\n",
            "Selecting previously unselected package libsox-fmt-mp3:amd64.\n",
            "Preparing to unpack .../12-libsox-fmt-mp3_14.4.2-3ubuntu0.18.04.1_amd64.deb ...\n",
            "Unpacking libsox-fmt-mp3:amd64 (14.4.2-3ubuntu0.18.04.1) ...\n",
            "Selecting previously unselected package libsox-fmt-oss:amd64.\n",
            "Preparing to unpack .../13-libsox-fmt-oss_14.4.2-3ubuntu0.18.04.1_amd64.deb ...\n",
            "Unpacking libsox-fmt-oss:amd64 (14.4.2-3ubuntu0.18.04.1) ...\n",
            "Selecting previously unselected package libsox-fmt-pulse:amd64.\n",
            "Preparing to unpack .../14-libsox-fmt-pulse_14.4.2-3ubuntu0.18.04.1_amd64.deb ...\n",
            "Unpacking libsox-fmt-pulse:amd64 (14.4.2-3ubuntu0.18.04.1) ...\n",
            "Selecting previously unselected package libsox-fmt-all:amd64.\n",
            "Preparing to unpack .../15-libsox-fmt-all_14.4.2-3ubuntu0.18.04.1_amd64.deb ...\n",
            "Unpacking libsox-fmt-all:amd64 (14.4.2-3ubuntu0.18.04.1) ...\n",
            "Selecting previously unselected package sox.\n",
            "Preparing to unpack .../16-sox_14.4.2-3ubuntu0.18.04.1_amd64.deb ...\n",
            "Unpacking sox (14.4.2-3ubuntu0.18.04.1) ...\n",
            "Setting up libid3tag0:amd64 (0.15.1b-13) ...\n",
            "Setting up libao-common (1.2.2+20180113-1ubuntu1) ...\n",
            "Setting up libmagic-mgc (1:5.32-2ubuntu0.4) ...\n",
            "Setting up libmagic1:amd64 (1:5.32-2ubuntu0.4) ...\n",
            "Setting up libopencore-amrnb0:amd64 (0.1.3-2.1) ...\n",
            "Setting up libmad0:amd64 (0.15.1b-9ubuntu18.04.1) ...\n",
            "Setting up libopencore-amrwb0:amd64 (0.1.3-2.1) ...\n",
            "Setting up libsox3:amd64 (14.4.2-3ubuntu0.18.04.1) ...\n",
            "Setting up libsox-fmt-mp3:amd64 (14.4.2-3ubuntu0.18.04.1) ...\n",
            "Setting up libsox-fmt-base:amd64 (14.4.2-3ubuntu0.18.04.1) ...\n",
            "Setting up libsox-fmt-pulse:amd64 (14.4.2-3ubuntu0.18.04.1) ...\n",
            "Setting up libao4:amd64 (1.2.2+20180113-1ubuntu1) ...\n",
            "Setting up libsox-fmt-alsa:amd64 (14.4.2-3ubuntu0.18.04.1) ...\n",
            "Setting up libsox-fmt-oss:amd64 (14.4.2-3ubuntu0.18.04.1) ...\n",
            "Setting up libsox-fmt-ao:amd64 (14.4.2-3ubuntu0.18.04.1) ...\n",
            "Setting up sox (14.4.2-3ubuntu0.18.04.1) ...\n",
            "Setting up libsox-fmt-all:amd64 (14.4.2-3ubuntu0.18.04.1) ...\n",
            "Processing triggers for libc-bin (2.27-3ubuntu1.3) ...\n",
            "/sbin/ldconfig.real: /usr/local/lib/python3.7/dist-packages/ideep4py/lib/libmkldnn.so.0 is not a symbolic link\n",
            "\n",
            "Processing triggers for man-db (2.8.3-2ubuntu0.1) ...\n",
            "Processing triggers for mime-support (3.60ubuntu1) ...\n"
          ]
        }
      ]
    },
    {
      "cell_type": "code",
      "source": [
        "%pip install sox"
      ],
      "metadata": {
        "colab": {
          "base_uri": "https://localhost:8080/"
        },
        "id": "Ee8LBNvU4O0K",
        "outputId": "f41a61ab-8d4f-47fe-cbca-4e7b5929e71e"
      },
      "execution_count": 9,
      "outputs": [
        {
          "output_type": "stream",
          "name": "stdout",
          "text": [
            "Looking in indexes: https://pypi.org/simple, https://us-python.pkg.dev/colab-wheels/public/simple/\n",
            "Collecting sox\n",
            "  Downloading sox-1.4.1-py2.py3-none-any.whl (39 kB)\n",
            "Requirement already satisfied: numpy>=1.9.0 in /usr/local/lib/python3.7/dist-packages (from sox) (1.21.6)\n",
            "Installing collected packages: sox\n",
            "Successfully installed sox-1.4.1\n"
          ]
        }
      ]
    },
    {
      "cell_type": "code",
      "source": [
        "%run 01prepare_wav.py"
      ],
      "metadata": {
        "colab": {
          "base_uri": "https://localhost:8080/"
        },
        "id": "dwDQaNSyt6iL",
        "outputId": "2b6785d8-c942-4aee-dd89-d37d8f5d2fd5"
      },
      "execution_count": 20,
      "outputs": [
        {
          "output_type": "stream",
          "name": "stdout",
          "text": [
            "../data\n"
          ]
        },
        {
          "output_type": "stream",
          "name": "stderr",
          "text": [
            "100%|██████████| 5000/5000 [01:27<00:00, 57.05it/s]\n"
          ]
        }
      ]
    },
    {
      "cell_type": "code",
      "source": [
        "!ls ../data/wav | wc\n",
        "!du -sh ../data/wav"
      ],
      "metadata": {
        "colab": {
          "base_uri": "https://localhost:8080/"
        },
        "id": "OI-C-Kxou9_s",
        "outputId": "5954b502-c1c7-4df0-e6f5-8f1595cc1c80"
      },
      "execution_count": 21,
      "outputs": [
        {
          "output_type": "stream",
          "name": "stdout",
          "text": [
            "   5000    5000   95000\n",
            "755M\t../data/wav\n"
          ]
        }
      ]
    },
    {
      "cell_type": "code",
      "source": [
        "!head ../data/label/all/wav.scp"
      ],
      "metadata": {
        "colab": {
          "base_uri": "https://localhost:8080/"
        },
        "id": "x5nO8FHAvgTg",
        "outputId": "7aad3ecd-81bc-4576-9316-4fc6e143ca11"
      },
      "execution_count": 22,
      "outputs": [
        {
          "output_type": "stream",
          "name": "stdout",
          "text": [
            "BASIC5000_0001 /content/python_asr/data/wav/BASIC5000_0001.wav\n",
            "BASIC5000_0002 /content/python_asr/data/wav/BASIC5000_0002.wav\n",
            "BASIC5000_0003 /content/python_asr/data/wav/BASIC5000_0003.wav\n",
            "BASIC5000_0004 /content/python_asr/data/wav/BASIC5000_0004.wav\n",
            "BASIC5000_0005 /content/python_asr/data/wav/BASIC5000_0005.wav\n",
            "BASIC5000_0006 /content/python_asr/data/wav/BASIC5000_0006.wav\n",
            "BASIC5000_0007 /content/python_asr/data/wav/BASIC5000_0007.wav\n",
            "BASIC5000_0008 /content/python_asr/data/wav/BASIC5000_0008.wav\n",
            "BASIC5000_0009 /content/python_asr/data/wav/BASIC5000_0009.wav\n",
            "BASIC5000_0010 /content/python_asr/data/wav/BASIC5000_0010.wav\n"
          ]
        }
      ]
    },
    {
      "cell_type": "markdown",
      "source": [
        "### 3種類のテキストラベルを抽出（00prepare/02prepare_label.py）"
      ],
      "metadata": {
        "id": "5zXBBtp6vpfn"
      }
    },
    {
      "cell_type": "code",
      "source": [
        "!head ../data/original/jsut-label-master/text_kana/basic5000.yaml"
      ],
      "metadata": {
        "colab": {
          "base_uri": "https://localhost:8080/"
        },
        "id": "PgLh_uDsviix",
        "outputId": "123deb0b-7ea6-46ee-959e-b7371eec1d89"
      },
      "execution_count": 23,
      "outputs": [
        {
          "output_type": "stream",
          "name": "stdout",
          "text": [
            "BASIC5000_0001:\n",
            "  text_level0: 水をマレーシアから買わなくてはならないのです。\n",
            "  kana_level0: みずをまれーしあからかわなくてわならないのです\n",
            "  text_level1: 水をマレーシアから買わなくてはならないのです。\n",
            "  text_level2: 水をマレーシアから買わなくてはならないのです。\n",
            "  kana_level2: みずをまれーしあからかわなくてわならないのです\n",
            "  kana_level3: みずをまれーしあからかわなくてわならないのです\n",
            "  phone_level3: m-i-z-u-o-m-a-r-e-e-sh-i-a-k-a-r-a-k-a-w-a-n-a-k-u-t-e-w-a-n-a-r-a-n-a-i-n-o-d-e-s-u\n",
            "BASIC5000_0002:\n",
            "  text_level0: 木曜日、停戦会談は、何の進展もないまま終了しました。\n"
          ]
        }
      ]
    },
    {
      "cell_type": "code",
      "source": [
        "%run 02prepare_label.py"
      ],
      "metadata": {
        "id": "Lqerpx4xvs62"
      },
      "execution_count": 24,
      "outputs": []
    },
    {
      "cell_type": "code",
      "source": [
        "!wc -l ../data/label/all/text_*"
      ],
      "metadata": {
        "colab": {
          "base_uri": "https://localhost:8080/"
        },
        "id": "WVP8cfGKv1qn",
        "outputId": "3825a868-086f-4d26-e774-b03c89052665"
      },
      "execution_count": 25,
      "outputs": [
        {
          "output_type": "stream",
          "name": "stdout",
          "text": [
            "   5000 ../data/label/all/text_char\n",
            "   5000 ../data/label/all/text_kana\n",
            "   5000 ../data/label/all/text_phone\n",
            "  15000 total\n"
          ]
        }
      ]
    },
    {
      "cell_type": "code",
      "source": [
        "!head ../data/label/all/text_*"
      ],
      "metadata": {
        "colab": {
          "base_uri": "https://localhost:8080/"
        },
        "id": "VUL5lwxdv6C6",
        "outputId": "51de2393-83af-4e1d-95ea-9dcd7a2eadea"
      },
      "execution_count": 26,
      "outputs": [
        {
          "output_type": "stream",
          "name": "stdout",
          "text": [
            "==> ../data/label/all/text_char <==\n",
            "BASIC5000_0001 水 を マ レ ー シ ア か ら 買 わ な く て は な ら な い の で す\n",
            "BASIC5000_0002 木 曜 日 停 戦 会 談 は 何 の 進 展 も な い ま ま 終 了 し ま し た\n",
            "BASIC5000_0003 上 院 議 員 は 私 が デ ー タ を ゆ が め た と 告 発 し た\n",
            "BASIC5000_0004 １ 週 間 し て そ の ニ ュ ー ス は 本 当 に な っ た\n",
            "BASIC5000_0005 血 圧 は 健 康 の パ ロ メ ー タ ー と し て 重 要 で あ る\n",
            "BASIC5000_0006 週 に 四 回 フ ラ ン ス の 授 業 が あ り ま す\n",
            "BASIC5000_0007 許 可 書 が な け れ ば こ こ へ は 入 れ な い\n",
            "BASIC5000_0008 大 声 で 泣 き な が ら 女 の 子 は 母 親 を 探 し て い た\n",
            "BASIC5000_0009 無 罪 の 人 々 は も ち ろ ん 放 免 さ れ た\n",
            "BASIC5000_0010 末 期 試 験 に 備 え て 本 当 に 気 合 い を 入 れ て 勉 強 し な き ゃ\n",
            "\n",
            "==> ../data/label/all/text_kana <==\n",
            "BASIC5000_0001 み ず を ま れ ー し あ か ら か わ な く て わ な ら な い の で す\n",
            "BASIC5000_0002 も く よ ー び て ー せ ん か い だ ん わ な ん の し ん て ん も な い ま ま し ゅ ー り ょ ー し ま し た\n",
            "BASIC5000_0003 じ ょ ー い ん ぎ ー ん わ わ た し が で ー た を ゆ が め た と こ く は つ し た\n",
            "BASIC5000_0004 い っ し ゅ ー か ん し て そ の に ゅ ー す わ ほ ん と ー に な っ た\n",
            "BASIC5000_0005 け つ あ つ わ け ん こ ー の ぱ ろ め ー た ー と し て じ ゅ ー よ ー で あ る\n",
            "BASIC5000_0006 し ゅ ー に よ ん か い ふ ら ん す の じ ゅ ぎ ょ ー が あ り ま す\n",
            "BASIC5000_0007 き ょ か し ょ が な け れ ば こ こ え わ は い れ な い\n",
            "BASIC5000_0008 お ー ご え で な き な が ら お ん な の こ わ は は お や を さ が し て い た\n",
            "BASIC5000_0009 む ざ い の ひ と び と わ も ち ろ ん ほ ー め ん さ れ た\n",
            "BASIC5000_0010 ま っ き し け ん に そ な え て ほ ん と ー に き あ い を い れ て べ ん き ょ ー し な き ゃ\n",
            "\n",
            "==> ../data/label/all/text_phone <==\n",
            "BASIC5000_0001 m i z u o m a r e e sh i a k a r a k a w a n a k u t e w a n a r a n a i n o d e s u\n",
            "BASIC5000_0002 m o k u y o o b i pau t e e s e N k a i d a N w a pau n a N n o sh i N t e N m o n a i m a m a sh u u ry o o sh i m a sh i t a\n",
            "BASIC5000_0003 j o o i N g i i N w a pau w a t a sh i g a d e e t a o y u g a m e t a t o k o k u h a ts u sh i t a\n",
            "BASIC5000_0004 i cl sh u u k a N sh i t e pau s o n o ny u u s u w a h o N t o o n i n a cl t a\n",
            "BASIC5000_0005 k e ts u a ts u w a pau k e N k o o n o p a r o m e e t a a t o sh i t e j u u y o o d e a r u\n",
            "BASIC5000_0006 sh u u n i y o N k a i pau f u r a N s u n o j u gy o o g a a r i m a s u\n",
            "BASIC5000_0007 ky o k a sh o g a n a k e r e b a k o k o e w a h a i r e n a i\n",
            "BASIC5000_0008 o o g o e d e n a k i n a g a r a pau o N n a n o k o w a h a h a o y a o s a g a sh i t e i t a\n",
            "BASIC5000_0009 m u z a i n o h i t o b i t o w a pau m o ch i r o N h o o m e N s a r e t a\n",
            "BASIC5000_0010 m a cl k i sh i k e N n i s o n a e t e pau h o N t o o n i k i a i o i r e t e b e N ky o o sh i n a ky a\n"
          ]
        }
      ]
    },
    {
      "cell_type": "markdown",
      "source": [
        "### 学習/開発/評価用のデータセットに分割（00prepare/03subset_data.py）"
      ],
      "metadata": {
        "id": "c6qB_UAIv_Hn"
      }
    },
    {
      "cell_type": "markdown",
      "source": [
        "```\n",
        "all          全データ\n",
        "train_large  学習データ（大）\n",
        "train_small  学習データ（小）\n",
        "dev          開発データ\n",
        "test         評価データ\n",
        "```"
      ],
      "metadata": {
        "id": "QPAsQ4bIwEon"
      }
    },
    {
      "cell_type": "code",
      "source": [
        "%run 03subset_data.py"
      ],
      "metadata": {
        "id": "69PZHv1pv7zZ"
      },
      "execution_count": 27,
      "outputs": []
    },
    {
      "cell_type": "code",
      "source": [
        "!for f in all train_large train_small dev test; do echo; wc -l ../data/label/$f/*; done"
      ],
      "metadata": {
        "colab": {
          "base_uri": "https://localhost:8080/"
        },
        "id": "vkjHrtCxwOG3",
        "outputId": "b8744ebc-0421-414d-e3fc-167f4ea37366"
      },
      "execution_count": 28,
      "outputs": [
        {
          "output_type": "stream",
          "name": "stdout",
          "text": [
            "\n",
            "   5000 ../data/label/all/text_char\n",
            "   5000 ../data/label/all/text_kana\n",
            "   5000 ../data/label/all/text_phone\n",
            "   5000 ../data/label/all/wav.scp\n",
            "  20000 total\n",
            "\n",
            "   4500 ../data/label/train_large/text_char\n",
            "   4500 ../data/label/train_large/text_kana\n",
            "   4500 ../data/label/train_large/text_phone\n",
            "   4500 ../data/label/train_large/wav.scp\n",
            "  18000 total\n",
            "\n",
            "  1000 ../data/label/train_small/text_char\n",
            "  1000 ../data/label/train_small/text_kana\n",
            "  1000 ../data/label/train_small/text_phone\n",
            "  1000 ../data/label/train_small/wav.scp\n",
            "  4000 total\n",
            "\n",
            "   250 ../data/label/dev/text_char\n",
            "   250 ../data/label/dev/text_kana\n",
            "   250 ../data/label/dev/text_phone\n",
            "   250 ../data/label/dev/wav.scp\n",
            "  1000 total\n",
            "\n",
            "   250 ../data/label/test/text_char\n",
            "   250 ../data/label/test/text_kana\n",
            "   250 ../data/label/test/text_phone\n",
            "   250 ../data/label/test/wav.scp\n",
            "  1000 total\n"
          ]
        }
      ]
    },
    {
      "cell_type": "markdown",
      "source": [
        "## 生成したデータを Google Drive に保存する"
      ],
      "metadata": {
        "id": "B_w0fCSRwdjn"
      }
    },
    {
      "cell_type": "code",
      "source": [
        "%cd /content/python_asr/data"
      ],
      "metadata": {
        "colab": {
          "base_uri": "https://localhost:8080/"
        },
        "id": "hJEreeb9wQiL",
        "outputId": "0e496074-09eb-4c29-8f22-76046df5d659"
      },
      "execution_count": 29,
      "outputs": [
        {
          "output_type": "stream",
          "name": "stdout",
          "text": [
            "/content/python_asr/data\n"
          ]
        }
      ]
    },
    {
      "cell_type": "code",
      "source": [
        "!du -sm *"
      ],
      "metadata": {
        "colab": {
          "base_uri": "https://localhost:8080/"
        },
        "id": "l1Mz0eMuwt7_",
        "outputId": "71ff2481-c2bd-476a-9a26-ac1619ab55de"
      },
      "execution_count": 31,
      "outputs": [
        {
          "output_type": "stream",
          "name": "stdout",
          "text": [
            "6\tlabel\n",
            "6039\toriginal\n",
            "755\twav\n"
          ]
        }
      ]
    },
    {
      "cell_type": "code",
      "source": [
        "!du -sm original/*"
      ],
      "metadata": {
        "colab": {
          "base_uri": "https://localhost:8080/"
        },
        "id": "kTOvhW7uwvqg",
        "outputId": "f0412b42-5648-4b40-a87d-ef94b6949767"
      },
      "execution_count": 32,
      "outputs": [
        {
          "output_type": "stream",
          "name": "stdout",
          "text": [
            "9\toriginal/1978271.zip\n",
            "65\toriginal/jsut-label-master\n",
            "3402\toriginal/jsut_ver1.1\n",
            "2565\toriginal/jsut_ver1.1.zip\n"
          ]
        }
      ]
    },
    {
      "cell_type": "code",
      "source": [
        "!rm original/*.zip"
      ],
      "metadata": {
        "id": "QBGohcI-zxba"
      },
      "execution_count": null,
      "outputs": []
    },
    {
      "cell_type": "code",
      "source": [
        "from google.colab import drive\n",
        "drive.mount('/content/drive')"
      ],
      "metadata": {
        "colab": {
          "base_uri": "https://localhost:8080/"
        },
        "id": "mbgBbVDGw3EJ",
        "outputId": "93eab75a-4665-4eaf-f0dc-91a819be7ead"
      },
      "execution_count": 33,
      "outputs": [
        {
          "output_type": "stream",
          "name": "stdout",
          "text": [
            "Mounted at /content/drive\n"
          ]
        }
      ]
    },
    {
      "cell_type": "code",
      "source": [
        "!mkdir -p /content/drive/MyDrive/data/python_asr"
      ],
      "metadata": {
        "id": "Wioc6BaXygc1"
      },
      "execution_count": 38,
      "outputs": []
    },
    {
      "cell_type": "code",
      "source": [
        "!mv /content/python_asr/data/* /content/drive/MyDrive/data/python_asr/"
      ],
      "metadata": {
        "id": "dl6uQR2tyX6T"
      },
      "execution_count": 39,
      "outputs": []
    },
    {
      "cell_type": "code",
      "source": [
        ""
      ],
      "metadata": {
        "id": "oy7Pp03W0Pmz"
      },
      "execution_count": null,
      "outputs": []
    }
  ]
}